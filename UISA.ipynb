{
 "cells": [
  {
   "attachments": {},
   "cell_type": "markdown",
   "id": "478556d4",
   "metadata": {},
   "source": [
    "# Uninformed and Informed Search Algorithms"
   ]
  },
  {
   "attachments": {},
   "cell_type": "markdown",
   "id": "14b0ac60",
   "metadata": {},
   "source": [
    "## Part 1: Iterative Deepening Search Algorithm"
   ]
  },
  {
   "attachments": {},
   "cell_type": "markdown",
   "id": "f632a738",
   "metadata": {},
   "source": [
    "### 1. Problem Description\n",
    "\n",
    "//Identify real world problems that can be solved using IDFS Algorithm.\n",
    "\n",
    "The problem is to find the optimal route for navigating between the cities in Saudi Arabia and The goal is to determine the shortest path from one city to another using the Iterative Deepening Search (IDS) algorithm.\n",
    "\n",
    "cities:\n",
    "- Riyadh\n",
    "- Jeddah\n",
    "- Dammam\n",
    "- Khobar\n",
    "- Makkah\n",
    "- Madinah\n",
    "- Taif\n",
    "\n",
    "connections:\n",
    "- Riyadh - Jeddah\n",
    "- Riyadh - Dammam\n",
    "- Jeddah - Madinah\n",
    "- Jeddah - Makkah\n",
    "- Jeddah - Taif\n",
    "- Dammam - Khobar\n",
    "- Damman - Riyadh\n",
    "- Khobar - Dammam\n",
    "- Makkah - Madinah\n",
    "- Makkah - Jeddah\n",
    "- Madinah - Makkah\n",
    "- Madinah - Jeddah\n",
    "- Taif - Jeddah\n",
    "\n",
    "The problem is to find the shortest path from a given source city to a destination city using IDS.\n",
    "\n",
    "we will represent the problem as a graph, where the cities are the nodes and the roads are the edges. The cost of each edge is the distance between the two cities. The goal is to find the shortest path from one city to another.\n",
    "\n",
    "//Add detailed description of the problem, include diagrams or images to represent the problem visually.\n",
    "\n",
    "![](IDS_graph.jpg)\n",
    "\n",
    "As shown in the figure above, the problem is to find the shortest path from a given source city to a destination city using IDS."
   ]
  },
  {
   "attachments": {},
   "cell_type": "markdown",
   "id": "69a36b2d",
   "metadata": {},
   "source": [
    "### 2. Solution Description\n",
    "\n",
    "// Explain how Iterative Deepening Search Algorithm will be used to solve the problem. Student must ellaborate the details on how IDS will solve the problem.\n",
    "\n",
    "The Iterative Deepening Search (IDS) algorithm will be used to solve the routing problem. IDS is a combination of depth-first search (DFS) and breadth-first search (BFS) algorithms. It starts with a depth limit of 1 and gradually increases the limit until the goal is reached.\n",
    "\n",
    "The algorithm will perform a depth-limited search from the source city, exploring all possible paths up to the current depth limit. If the destination city is found within the depth limit, the algorithm stops and returns the optimal route. Otherwise, it increases the depth limit and continues the search until the goal is reached or the depth limit exceeds a predefined maximum depth."
   ]
  },
  {
   "attachments": {},
   "cell_type": "markdown",
   "id": "17d3e6d5",
   "metadata": {},
   "source": [
    "### 3. Code Implemetantion"
   ]
  },
  {
   "attachments": {},
   "cell_type": "markdown",
   "id": "b10f77d3",
   "metadata": {},
   "source": [
    "### A. Problem Represetation\n",
    "\n",
    "//Add explanation how the problem is represented in the code\n",
    "\n",
    "The problem can be represented using a graph data structure. Each city is represented as a node, and the connections between cities are represented as edges in the graph.\n",
    "\n",
    "The graph is represented using an adjacency list, where each node is associated with a list of adjacent nodes. The adjacency list is implemented using a dictionary, where the keys are the nodes and the values are the lists of adjacent nodes.\n",
    "\n",
    "The graph is initialized using the following code:\n",
    "\n",
    "```\n",
    "graph = {\n",
    "    'Riyadh': {'Jeddah': 800, 'Dammam': 400},\n",
    "    'Jeddah': {'Makkah': 80, 'Madinah': 420, 'Taif': 220},\n",
    "    'Dammam': {'Khobar': 20, 'Riyadh': 400},\n",
    "    'Makkah': {'Jeddah': 80, 'Madinah': 500},\n",
    "    'Madinah': {'Jeddah': 420, 'Makkah': 500},\n",
    "    'Taif': {'Jeddah': 220},\n",
    "    'Khobar': {'Dammam': 20},\n",
    "}\n",
    "```\n"
   ]
  },
  {
   "cell_type": "code",
   "execution_count": 32,
   "id": "76d02238",
   "metadata": {},
   "outputs": [],
   "source": [
    "#Add code to represent the problem (Example: graph or tree construction)\n",
    "\n",
    "# Define the graph representation of Saudi Arabian places and their connections with weights\n",
    "graph = {\n",
    "    'Riyadh': {'Jeddah': 800, 'Dammam': 400},\n",
    "    'Jeddah': {'Makkah': 80, 'Madinah': 420, 'Taif': 220},\n",
    "    'Dammam': {'Khobar': 20, 'Riyadh': 400},\n",
    "    'Makkah': {'Jeddah': 80, 'Madinah': 500},\n",
    "    'Madinah': {'Jeddah': 420, 'Makkah': 500},\n",
    "    'Taif': {'Jeddah': 220},\n",
    "    'Khobar': {'Dammam': 20},\n",
    "}\n",
    "\n",
    "# Define the goal destination\n",
    "goal = 'Khobar'"
   ]
  },
  {
   "attachments": {},
   "cell_type": "markdown",
   "id": "e415504f",
   "metadata": {},
   "source": [
    "### B. Algorithm Implementation\n",
    "\n",
    "//This is where the implementation of the algorithm will be implemented (better if you use function to implement the algorithm).\n",
    "\n",
    "// Add explanation how the algorithm is implemented based on the code. (What data structure is used and what are the components of your algorithm function)\n",
    "\n",
    "The algorithm will be implemented using a recursive function that performs depth-limited search.\n",
    "\n",
    "The function takes the following parameters:\n",
    "   - start: the source city\n",
    "   - goal: the destination city\n",
    "   - depth: the current depth limit\n",
    "\n",
    "The function returns the following:\n",
    "   - path: the optimal path from the source city to the destination city\n",
    "   - cost: the cost of the optimal path"
   ]
  },
  {
   "cell_type": "code",
   "execution_count": 33,
   "id": "170605ce",
   "metadata": {},
   "outputs": [],
   "source": [
    "#Add code here to implement the algorithm.\n",
    "\n",
    "# Implement Iterative Deepening Search (IDS) algorithm with weights\n",
    "def iterative_deepening_search(start, goal, depth_limit,max_depth):\n",
    "    if start == goal:\n",
    "        return [start]\n",
    "\n",
    "    if depth_limit == max_depth:\n",
    "        return []\n",
    "\n",
    "    for neighbor, weight in graph.get(start, {}).items():\n",
    "        result = iterative_deepening_search(neighbor, goal, depth_limit + 1,max_depth)\n",
    "        if result:\n",
    "            return [start] + result\n",
    "\n",
    "    return []"
   ]
  },
  {
   "attachments": {},
   "cell_type": "markdown",
   "id": "60d4e0c8",
   "metadata": {},
   "source": [
    "### C. Solving Problem Using the algorithm\n",
    "\n",
    "// This is where you will add the code to solve the problem using the implemented algorithm.\n",
    "\n",
    "//Add explanation did you used the algorithm to solve the problem.\n",
    "\n",
    "The code executes the IDS algorithm with increasing depth limits until a valid route is found or the maximum depth is reached. If a valid route is found, it is printed as the optimal route. Otherwise, a message is displayed indicating that no valid route was found."
   ]
  },
  {
   "cell_type": "code",
   "execution_count": 34,
   "id": "bf61e7c8",
   "metadata": {},
   "outputs": [
    {
     "name": "stdout",
     "output_type": "stream",
     "text": [
      "Optimal Route:\n",
      "1. Riyadh\n",
      "2. Dammam\n",
      "3. Khobar\n",
      "Total Travel Time: 420\n"
     ]
    }
   ],
   "source": [
    "#Add code here that solves the problem using the algorithm\n",
    "\n",
    "# Perform IDS with increasing depth limits\n",
    "route = None\n",
    "\n",
    "depth_limit = 0\n",
    "\n",
    "route = iterative_deepening_search('Riyadh', goal, depth_limit,max_depth=5)\n",
    "\n",
    "# Calculate the total travel time for the optimal route\n",
    "total_travel_time = sum(graph[route[i]][route[i+1]] for i in range(len(route) - 1))\n",
    "\n",
    "# Print the optimal route and total travel time\n",
    "if route:\n",
    "    print(\"Optimal Route:\")\n",
    "    for i, place in enumerate(route):\n",
    "        print(f\"{i+1}. {place}\")\n",
    "    print(\"Total Travel Time:\", total_travel_time)\n",
    "else:\n",
    "    print(\"No valid route found.\")"
   ]
  },
  {
   "attachments": {},
   "cell_type": "markdown",
   "id": "5faa611f",
   "metadata": {},
   "source": [
    "## Part 2: Uniform Cost Search Algorithm."
   ]
  },
  {
   "attachments": {},
   "cell_type": "markdown",
   "id": "f632a738",
   "metadata": {},
   "source": [
    "### 1. Problem Description\n",
    "\n",
    "//Identify real world problems that can be solved using UCS Algorithm.\n",
    "\n",
    "The problem revolves around optimizing waste collection routing within the districts of Al-Ahsa city. Al-Ahsa consists of multiple districts, each with its own waste collection needs. The goal is to find the optimal route for waste collection, minimizing the distance traveled and ensuring efficient waste management across the city.\n",
    "\n",
    "The city's districts are interconnected by roads, and each road has an associated cost (e.g., distance or travel time). The waste collection vehicles need to visit all the districts while considering the road network and associated costs. The problem is to determine the optimal route that minimizes the total cost of waste collection.\n",
    "\n",
    "\n",
    "//Add detailed description of the problem, include diagrams or images to represent the problem visually.\n",
    "\n",
    "\n",
    "![](UCS_graph.jpg)\n",
    "\n",
    "As shown in the figure above, the problem is to find the optimal route for waste collection, minimizing the distance traveled and ensuring efficient waste management across the city."
   ]
  },
  {
   "attachments": {},
   "cell_type": "markdown",
   "id": "69a36b2d",
   "metadata": {},
   "source": [
    "### 2. Solution Description\n",
    "\n",
    "// Explain how Iterative Deepening Search Algorithm will be used to solve the problem. Student must ellaborate the details on how IDS will solve the problem.\n",
    "\n",
    "To solve this problem, we will utilize the Uniform Cost Search (UCS) algorithm. UCS explores the graph by gradually expanding nodes based on their cumulative cost from the start node. In our case, the nodes represent the districts, and the edges between them represent the roads with associated costs.\n",
    "\n",
    "The UCS algorithm will start from the initial district and iteratively expand the nodes with the lowest cumulative cost. It will continue expanding the nodes until the goal district (or target) is reached or until all possible paths have been explored. The algorithm guarantees an optimal solution by always choosing the path with the lowest cumulative cost at each step."
   ]
  },
  {
   "attachments": {},
   "cell_type": "markdown",
   "id": "17d3e6d5",
   "metadata": {},
   "source": [
    "### 3. Code Implemetantion"
   ]
  },
  {
   "cell_type": "code",
   "execution_count": 35,
   "id": "f391e786",
   "metadata": {},
   "outputs": [],
   "source": [
    "# First code block can be used to declare libraries\n",
    "import heapq"
   ]
  },
  {
   "attachments": {},
   "cell_type": "markdown",
   "id": "b10f77d3",
   "metadata": {},
   "source": [
    "### A. Problem Represetation\n",
    "\n",
    "//Add explanation how the problem is represented in the code"
   ]
  },
  {
   "cell_type": "code",
   "execution_count": 36,
   "id": "76d02238",
   "metadata": {},
   "outputs": [],
   "source": [
    "#Add code to represent the problem (Example: graph or tree construction)\n",
    "\n",
    "# Graph representation of waste collection routing within districts of Al-Ahsa city in Saudi Arabia\n",
    "graph = {\n",
    "    'Al-Ahsa': [('Hofuf', 7), ('Mubarraz', 5), ('Khaldiyah', 3)],\n",
    "    'Hofuf': [('Al-Uqair', 6)],\n",
    "    'Mubarraz': [('Khaldiyah', 2)],\n",
    "    'Khaldiyah': [('Salmaniah', 4), ('Qara', 6)],\n",
    "    'Salmaniah': [('Qara', 3)],\n",
    "    'Qara': [],\n",
    "    'Al-Uqair': [],\n",
    "}"
   ]
  },
  {
   "attachments": {},
   "cell_type": "markdown",
   "id": "e415504f",
   "metadata": {},
   "source": [
    "### B. Algorithm Implementation\n",
    "\n",
    "//This is where the implementation of the algorithm will be implemented (better if you use function to implement the algorithm).\n",
    "\n",
    "// Add explanation how the algorithm is implemented based on the code. (What data structure is used and what are the components of your algorithm function)"
   ]
  },
  {
   "cell_type": "code",
   "execution_count": 37,
   "id": "170605ce",
   "metadata": {},
   "outputs": [],
   "source": [
    "#Add code here to implement the algorithm.\n",
    "\n",
    "def uniform_cost_search(graph, start, goal):\n",
    "    queue = [(0, start, [])]  # Priority queue with initial cost, start node, and empty path\n",
    "    visited = set()  # Set to track visited nodes\n",
    "\n",
    "    while queue:\n",
    "        cost, node, path = heapq.heappop(queue)\n",
    "\n",
    "        if node == goal:\n",
    "            return path + [node]  # Return the path if the goal node is reached\n",
    "\n",
    "        if node not in visited:\n",
    "            visited.add(node)\n",
    "            for neighbor, edge_cost in graph[node]:\n",
    "                heapq.heappush(queue, (cost + edge_cost, neighbor, path + [node]))\n",
    "\n",
    "    return None  \n",
    "# Return None if no path to the goal node is found"
   ]
  },
  {
   "attachments": {},
   "cell_type": "markdown",
   "id": "60d4e0c8",
   "metadata": {},
   "source": [
    "### C. Solving Problem Using the algorithm\n",
    "\n",
    "// This is where you will add the code to solve the problem using the implemented algorithm.\n",
    "\n",
    "//Add explanation did you used the algorithm to solve the problem.\n",
    "\n",
    "In this implementation, we have represented the waste collection routing problem within the districts of Al-Ahsa city using a graph. The graph variable represents the interconnected districts, where each district is a node, and each road between districts is an edge with an associated cost. The UCS algorithm, implemented in the uniform_cost_search function, explores the graph to find the optimal route for waste collection from the starting district to the target district."
   ]
  },
  {
   "cell_type": "code",
   "execution_count": 48,
   "id": "bf61e7c8",
   "metadata": {},
   "outputs": [
    {
     "name": "stdout",
     "output_type": "stream",
     "text": [
      "Optimal route: Mubarraz->Khaldiyah->Salmaniah\n"
     ]
    }
   ],
   "source": [
    "#Add code here that solves the problem using the algorithm\n",
    "\n",
    "# Usage example\n",
    "start_node = 'Mubarraz'\n",
    "goal_node = 'Salmaniah'\n",
    "solution = uniform_cost_search(graph, start_node, goal_node)\n",
    "if solution:\n",
    "    print(\"Optimal route:\", \"->\".join(solution))\n",
    "else:\n",
    "    print(\"No solution found.\")"
   ]
  },
  {
   "attachments": {},
   "cell_type": "markdown",
   "id": "42d2803b",
   "metadata": {},
   "source": [
    "## Part 3: Greedy Best First Search Algorithm"
   ]
  },
  {
   "attachments": {},
   "cell_type": "markdown",
   "id": "f632a738",
   "metadata": {},
   "source": [
    "### 1. Problem Description\n",
    "\n",
    "//Identify real world problems that can be solved using GBFS Algorithm.\n",
    "\n",
    "Restaurant Table Reservation Problem Description\n",
    "\n",
    "//Add detailed description of the problem, include diagrams or images to represent the problem visually.\n",
    "\n",
    "The restaurant wants to optimize table reservations to maximize customer satisfaction and minimize waiting times.\n",
    "The goal is to efficiently allocate available tables to incoming reservations based on factors such as party size\n",
    "\n",
    "![](GBFS_graph.jpg)"
   ]
  },
  {
   "attachments": {},
   "cell_type": "markdown",
   "id": "69a36b2d",
   "metadata": {},
   "source": [
    "### 2. Solution Description\n",
    "\n",
    "// Explain how Iterative Deepening Search Algorithm will be used to solve the problem. Student must ellaborate the details on how IDS will solve the problem.\n",
    "\n",
    "The Greedy Best-First Search (GBFS) algorithm will be used to solve the restaurant table reservation problem.\n",
    "GBFS is a heuristic search algorithm that explores the most promising options based on a heuristic value.\n",
    "The algorithm will prioritize table reservations based on factors such as the requested party size and the available table size."
   ]
  },
  {
   "attachments": {},
   "cell_type": "markdown",
   "id": "17d3e6d5",
   "metadata": {},
   "source": [
    "### 3. Code Implemetantion"
   ]
  },
  {
   "cell_type": "code",
   "execution_count": 39,
   "id": "f391e786",
   "metadata": {},
   "outputs": [],
   "source": [
    "# First code block can be used to declare libraries\n",
    "import heapq"
   ]
  },
  {
   "attachments": {},
   "cell_type": "markdown",
   "id": "b10f77d3",
   "metadata": {},
   "source": [
    "### A. Problem Represetation\n",
    "\n",
    "//Add explanation how the problem is represented in the code\n",
    "\n",
    "The problem can be represented using a graph data structure. Each table is represented as a node, and the connections between tables are represented as edges in the graph."
   ]
  },
  {
   "cell_type": "code",
   "execution_count": 40,
   "id": "76d02238",
   "metadata": {},
   "outputs": [],
   "source": [
    "#Add code to represent the problem (Example: graph or tree construction)\n",
    "\n",
    "# Define the list of available tables\n",
    "tables = [\n",
    "    {'id': 1, 'capacity': 4},\n",
    "    {'id': 2, 'capacity': 6},\n",
    "    {'id': 3, 'capacity': 2},\n",
    "    {'id': 4, 'capacity': 8},\n",
    "]\n",
    "\n",
    "# Define the list of reservations\n",
    "reservations = [\n",
    "    {'name': 'Mr Conrado', 'party_size': 5},\n",
    "    {'name': 'Mr Khan', 'party_size': 3},\n",
    "    {'name': 'Mr Afifi', 'party_size': 2},\n",
    "    {'name': 'Mr Abdulelah', 'party_size': 6},\n",
    "]"
   ]
  },
  {
   "attachments": {},
   "cell_type": "markdown",
   "id": "e415504f",
   "metadata": {},
   "source": [
    "### B. Algorithm Implementation\n",
    "\n",
    "//This is where the implementation of the algorithm will be implemented (better if you use function to implement the algorithm).\n",
    "\n",
    "// Add explanation how the algorithm is implemented based on the code. (What data structure is used and what are the components of your algorithm function)\n",
    "\n",
    "The algorithm will be implemented using a recursive function that performs Greedy best first search. The function takes the following parameters:\n",
    "- tables : the list of available tables\n",
    "- reservations : the list of incoming reservations\n",
    "\n",
    "The function returns the following:\n",
    "- tables : the list of available tables after the reservations are allocated"
   ]
  },
  {
   "cell_type": "code",
   "execution_count": 41,
   "id": "170605ce",
   "metadata": {},
   "outputs": [],
   "source": [
    "#Add code here to implement the algorithm.\n",
    "\n",
    "tables.sort(key=lambda table: table['capacity'], reverse=False)\n",
    "\n",
    "def optimize_table_reservations(tables, reservations):\n",
    "    # Define a priority queue to store reservation options\n",
    "    queue = []\n",
    "\n",
    "    # Iterate over the reservations and add them to the priority queue\n",
    "    for reservation in reservations:\n",
    "        heapq.heappush(queue, (reservation['party_size'], reservation))\n",
    "\n",
    "    # Initialize table assignments dictionary\n",
    "    table_assignments = {}\n",
    "\n",
    "    # Process reservation options from the priority queue\n",
    "    for table in tables:\n",
    "            priority, reservation = heapq.heappop(queue)\n",
    "\n",
    "            party_size = reservation['party_size']\n",
    "\n",
    "            if table['capacity'] >= party_size and table['id'] not in table_assignments:\n",
    "                table_assignments[table['id']] = reservation\n",
    "    return table_assignments"
   ]
  },
  {
   "attachments": {},
   "cell_type": "markdown",
   "id": "60d4e0c8",
   "metadata": {},
   "source": [
    "### C. Solving Problem Using the algorithm\n",
    "\n",
    "// This is where you will add the code to solve the problem using the implemented algorithm.\n",
    "\n",
    "//Add explanation did you used the algorithm to solve the problem.\n",
    "\n",
    "The code executes the GBFS algorithm to allocate tables to incoming reservations. The algorithm prioritizes reservations based on the requested party size and the available table size. The algorithm allocates the reservation to the first available table that can accommodate the party size. If no available table can accommodate the party size, the reservation is rejected."
   ]
  },
  {
   "cell_type": "code",
   "execution_count": 42,
   "id": "bf61e7c8",
   "metadata": {},
   "outputs": [
    {
     "name": "stdout",
     "output_type": "stream",
     "text": [
      "Table 3: Mr Afifi (Party Size: 2)\n",
      "Table 1: Mr Khan (Party Size: 3)\n",
      "Table 2: Mr Conrado (Party Size: 5)\n",
      "Table 4: Mr Abdulelah (Party Size: 6)\n"
     ]
    }
   ],
   "source": [
    "#Add code here that solves the problem using the algorithm\n",
    "\n",
    "# Call the function to optimize table reservations\n",
    "table_assignments = optimize_table_reservations(tables, reservations)\n",
    "\n",
    "# Print the optimized table reservations\n",
    "for table_id, reservation in table_assignments.items():\n",
    "    print(f\"Table {table_id}: {reservation['name']} (Party Size: {reservation['party_size']})\")"
   ]
  }
 ],
 "metadata": {
  "kernelspec": {
   "display_name": "Python 3 (ipykernel)",
   "language": "python",
   "name": "python3"
  },
  "language_info": {
   "codemirror_mode": {
    "name": "ipython",
    "version": 3
   },
   "file_extension": ".py",
   "mimetype": "text/x-python",
   "name": "python",
   "nbconvert_exporter": "python",
   "pygments_lexer": "ipython3",
   "version": "3.9.13"
  }
 },
 "nbformat": 4,
 "nbformat_minor": 5
}
